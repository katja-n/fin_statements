{
 "cells": [
  {
   "cell_type": "code",
   "execution_count": 1,
   "metadata": {},
   "outputs": [],
   "source": [
    "# ОПИСАНИЕ ЗАДАНИЯ\n",
    "#Построй линейный прогноз любого из интересующего тебя пункта отчетности.\n",
    "#Файлы которые я тебе скину - это реальная отчетность с интерфакса из под нашей OCR.\n",
    "#Поэтому заодно применишь уже полученные знания в обработке плохо собранных таблиц\n",
    "#Тебе нужно будет вытащить нужные ячейки, построить из этого график и спрогнозировать куда будет двигаться\n",
    "#выбранный тобой пункт отчетности с последующими отчетностями.\n",
    "#Как раз отработаешь уже изученные обработки таблиц и данных, построение графиков,\n",
    "#методы группировки и скорее всего будешь вынуждена поработать с numpy, если не трогала его еще, как раз познакомишься.\n",
    "#Ну и конечно задача регрессии машинного обучения что у тебя фактически актуальной темой является"
   ]
  },
  {
   "cell_type": "code",
   "execution_count": 2,
   "metadata": {},
   "outputs": [],
   "source": [
    "import pandas as pd\n",
    "import numpy as np\n",
    "from os import listdir\n",
    "from os.path import isfile, join\n",
    "import re"
   ]
  },
  {
   "cell_type": "code",
   "execution_count": 3,
   "metadata": {},
   "outputs": [],
   "source": [
    "def add_balance(data):\n",
    "    '''функция для добавления новых столбцов в df_balance'''\n",
    "    data = data.dropna(how='all')\n",
    "    for item in data.index:\n",
    "        if data.iloc[item, 0] == 'Наименование показателя':\n",
    "            i = item\n",
    "            break\n",
    "    new_column_list = data.iloc[i, 2:5].dropna().to_list()\n",
    "    for item in data.index:\n",
    "        if data.iloc[item, 1] == '1700':\n",
    "            j = item\n",
    "            break\n",
    "    balance = data.iloc[(i+1):(j+1), 2:(2+len(new_column_list))]\n",
    "    balance = balance.reset_index(drop=True)\n",
    "    balance.columns = new_column_list\n",
    "    return balance\n",
    "\n",
    "\n",
    "def add_assets(data_new):\n",
    "    '''функция для добавления активов из годовых балансов'''\n",
    "    for column in data_new.columns:\n",
    "        for item in data_new.index:\n",
    "            if re.search('Внеоборотные активы Нематериальные активы', str(data_new.iloc[item, column])) != None:\n",
    "                i = item\n",
    "                c = column\n",
    "                break\n",
    "    new_column_list = data_new.iloc[(i-2), c:(c+4)].to_list()\n",
    "    for column in data_new.columns:\n",
    "        for item in data_new.index:\n",
    "            if re.search('сумма строк 1100', str(data_new.iloc[item, column])) != None:\n",
    "                j = item\n",
    "                break\n",
    "    balance1 = data_new.iloc[i:(j), c:(c+4)]\n",
    "    balance1 = balance1.reset_index(drop=True)\n",
    "    balance1.columns = new_column_list\n",
    "    balance1 = balance1.dropna()\n",
    "    return balance1\n",
    "\n",
    "\n",
    "def add_liabilities(data_new):\n",
    "    '''функция для добавления пассивов из годовых балансов'''\n",
    "    for column in data_new.columns:\n",
    "        for item in data_new.index:\n",
    "            if re.search('Капитал и резервы Уставный капитал', str(data_new.iloc[item, column])) != None:\n",
    "                m = item\n",
    "                n = column\n",
    "                break\n",
    "    new_column_list = data_new.iloc[(m-2), n:(n+4)].to_list()\n",
    "    for item in data_new.index:\n",
    "        if re.search('сумма строк 1300', str(data_new.iloc[item, n])) != None:\n",
    "            j = item\n",
    "            break\n",
    "    balance2 = data_new.iloc[(m):(j+1), n:(n+4)]\n",
    "    balance2 = balance2.reset_index(drop=True)\n",
    "    balance2.columns = new_column_list\n",
    "    balance2 = balance2.dropna()\n",
    "    return balance2"
   ]
  },
  {
   "cell_type": "code",
   "execution_count": 4,
   "metadata": {},
   "outputs": [],
   "source": [
    "mypath = r'C:\\Users\\singh_000\\MyProjects\\Statements_project\\statements\\\\'\n",
    "files_list = [f for f in listdir(mypath) if isfile(join(mypath, f))]"
   ]
  },
  {
   "cell_type": "code",
   "execution_count": 5,
   "metadata": {},
   "outputs": [],
   "source": [
    "df_balance = pd.DataFrame()\n",
    "for file in files_list:\n",
    "    data_file = pd.ExcelFile(mypath+file)\n",
    "    data = pd.read_excel(data_file, header=None)\n",
    "    balance = add_balance(data)\n",
    "    df_balance[balance.columns] = balance"
   ]
  },
  {
   "cell_type": "code",
   "execution_count": 6,
   "metadata": {},
   "outputs": [],
   "source": [
    "df_balance = df_balance.dropna(axis=1)"
   ]
  },
  {
   "cell_type": "code",
   "execution_count": 7,
   "metadata": {},
   "outputs": [],
   "source": [
    "df_balance.columns = ['2020.06.30', '2019.12.31', '2020.03.31', '2019.09.30', '2017.12.31', '2018.06.30',\n",
    "                      '2016.12.31', '2017.09.30', '2015.12.31', '2016.09.30',\n",
    "                      '2015.12.31', '2014.12.31', '2016.06.30', '2016.03.31',\n",
    "                      '2015.06.30', '2013.12.31', '2014.06.30', '2012.12.31']"
   ]
  },
  {
   "cell_type": "code",
   "execution_count": 8,
   "metadata": {},
   "outputs": [],
   "source": [
    "df_balance = df_balance.loc[:, ~df_balance.columns.duplicated()]"
   ]
  },
  {
   "cell_type": "code",
   "execution_count": 9,
   "metadata": {},
   "outputs": [],
   "source": [
    "df_balance = df_balance.reindex(sorted(df_balance.columns), axis=1)"
   ]
  },
  {
   "cell_type": "code",
   "execution_count": 10,
   "metadata": {},
   "outputs": [],
   "source": [
    "data = pd.read_excel(\"./712_2509_0-Copy1.xlsx\", header=None)\n",
    "data = data.dropna(how='all')\n",
    "for item in data.index:\n",
    "    if data.iloc[item, 0] == 'Наименование показателя':\n",
    "        i = item\n",
    "        break\n",
    "    for item in data.index:\n",
    "        if data.iloc[item, 1] == '1700':\n",
    "            j = item\n",
    "            break\n",
    "text_column_list = data.iloc[i, 0:2].dropna().to_list()\n",
    "data = data.iloc[(i+1):(j+1), 0:2]\n",
    "data = data.reset_index(drop=True)\n",
    "data.columns = text_column_list\n",
    "data[df_balance.columns] = df_balance"
   ]
  },
  {
   "cell_type": "code",
   "execution_count": 11,
   "metadata": {},
   "outputs": [],
   "source": [
    "df_data = data.drop(0)"
   ]
  },
  {
   "cell_type": "code",
   "execution_count": 12,
   "metadata": {},
   "outputs": [],
   "source": [
    "df_data.reset_index(drop=True, inplace=True)"
   ]
  },
  {
   "cell_type": "code",
   "execution_count": 13,
   "metadata": {},
   "outputs": [],
   "source": [
    "mypath = r'C:\\Users\\singh_000\\MyProjects\\Statements_project\\statements1\\\\'\n",
    "files_list = [f for f in listdir(mypath) if isfile(join(mypath, f))]"
   ]
  },
  {
   "cell_type": "code",
   "execution_count": 14,
   "metadata": {},
   "outputs": [],
   "source": [
    "df_balance1 = pd.DataFrame()\n",
    "for file in files_list:\n",
    "    data_file = pd.ExcelFile(mypath+file)\n",
    "    data = pd.read_excel(data_file, header=None)\n",
    "    balance_new = add_assets(data)\n",
    "    df_balance1[balance_new.columns] = balance_new"
   ]
  },
  {
   "cell_type": "code",
   "execution_count": 15,
   "metadata": {},
   "outputs": [],
   "source": [
    "df_balance2 = pd.DataFrame()\n",
    "for file in files_list:\n",
    "    data_file = pd.ExcelFile(mypath+file)\n",
    "    data = pd.read_excel(data_file, header=None)\n",
    "    balance_new = add_liabilities(data)\n",
    "    df_balance2[balance_new.columns] = balance_new"
   ]
  },
  {
   "cell_type": "code",
   "execution_count": 16,
   "metadata": {},
   "outputs": [],
   "source": [
    "balance_final = df_balance1.append(df_balance2, ignore_index=True)\n",
    "balance_f = balance_final.drop(['Наименование показателя', 'Код'], axis=1)\n",
    "balance_f.columns"
   ]
  },
  {
   "cell_type": "code",
   "execution_count": 19,
   "metadata": {},
   "outputs": [],
   "source": [
    "balance_f.columns = ['2017.12.31', '2016.12.31', '2015.12.31', '2014.12.31', '2013.12.31',\n",
    "                     '2012.12.31', '2011.12.31', '2010.12.31']"
   ]
  },
  {
   "cell_type": "code",
   "execution_count": 20,
   "metadata": {},
   "outputs": [],
   "source": [
    "data_final = pd.concat([df_data, balance_f], axis=1)\n",
    "data_final = data_final.loc[:, ~data_final.columns.duplicated()]\n",
    "data_final = data_final.reindex(sorted(data_final.columns), axis=1)"
   ]
  },
  {
   "cell_type": "code",
   "execution_count": 23,
   "metadata": {},
   "outputs": [],
   "source": [
    "data_final = data_final.loc[:, ['Наименование показателя', 'Код', '2010.12.31', '2011.12.31', '2012.12.31', '2013.12.31', '2014.06.30',\n",
    "                                '2014.12.31', '2015.06.30', '2015.12.31', '2016.03.31', '2016.06.30',\n",
    "                                '2016.09.30', '2016.12.31', '2017.09.30', '2017.12.31', '2018.06.30',\n",
    "                                '2019.09.30', '2019.12.31', '2020.03.31', '2020.06.30']]"
   ]
  },
  {
   "cell_type": "code",
   "execution_count": 24,
   "metadata": {},
   "outputs": [],
   "source": [
    "data_final = data_final.T\n",
    "name_list = data_final.loc['Наименование показателя'].to_list()\n",
    "data_final = data_final.drop('Наименование показателя')\n",
    "data_final.columns = name_list\n",
    "data_final.drop('Код', axis=0)"
   ]
  },
  {
   "cell_type": "code",
   "execution_count": null,
   "metadata": {},
   "outputs": [],
   "source": []
  }
 ],
 "metadata": {
  "kernelspec": {
   "display_name": "Python 3",
   "language": "python",
   "name": "python3"
  },
  "language_info": {
   "codemirror_mode": {
    "name": "ipython",
    "version": 3
   },
   "file_extension": ".py",
   "mimetype": "text/x-python",
   "name": "python",
   "nbconvert_exporter": "python",
   "pygments_lexer": "ipython3",
   "version": "3.8.3"
  }
 },
 "nbformat": 4,
 "nbformat_minor": 4
}
